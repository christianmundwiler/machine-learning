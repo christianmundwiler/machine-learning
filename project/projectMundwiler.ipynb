{
 "cells": [
  {
   "cell_type": "markdown",
   "metadata": {},
   "source": [
    "Name: **Christian Mundwiler**  \n",
    "Project Title: **Music Recommendation Service**  \n",
    "Class: **CSCI 4930 Machine Learning**"
   ]
  },
  {
   "cell_type": "code",
   "execution_count": 10,
   "metadata": {},
   "outputs": [],
   "source": [
    "# import libraries\n",
    "import warnings\n",
    "warnings.filterwarnings(\"ignore\", category=FutureWarning)\n",
    "import pandas as pd\n",
    "import numpy as np\n",
    "import matplotlib.pyplot as plt\n",
    "import seaborn as sns\n",
    "from scipy.sparse import csr_matrix\n",
    "from recommender import Recommender"
   ]
  },
  {
   "cell_type": "code",
   "execution_count": 11,
   "metadata": {},
   "outputs": [],
   "source": [
    "song_plays = pd.read_csv('datasets/train_triplets.csv', delim_whitespace=True)\n",
    "song_plays.columns = ['User ID', 'Song ID', 'Listen Counts']"
   ]
  },
  {
   "cell_type": "code",
   "execution_count": null,
   "metadata": {},
   "outputs": [],
   "source": [
    "unique_tracks = pd.read_csv('datasets/unique_tracks.txt', delimiter=\"<SEP>\")\n",
    "unique_tracks.columns = ['Track ID', 'Song ID', 'Artist', 'Song Title']"
   ]
  },
  {
   "cell_type": "code",
   "execution_count": 13,
   "metadata": {},
   "outputs": [
    {
     "data": {
      "text/html": [
       "<div>\n",
       "<style scoped>\n",
       "    .dataframe tbody tr th:only-of-type {\n",
       "        vertical-align: middle;\n",
       "    }\n",
       "\n",
       "    .dataframe tbody tr th {\n",
       "        vertical-align: top;\n",
       "    }\n",
       "\n",
       "    .dataframe thead th {\n",
       "        text-align: right;\n",
       "    }\n",
       "</style>\n",
       "<table border=\"1\" class=\"dataframe\">\n",
       "  <thead>\n",
       "    <tr style=\"text-align: right;\">\n",
       "      <th></th>\n",
       "      <th>User ID</th>\n",
       "      <th>Song ID</th>\n",
       "      <th>Listen Counts</th>\n",
       "    </tr>\n",
       "  </thead>\n",
       "  <tbody>\n",
       "    <tr>\n",
       "      <th>0</th>\n",
       "      <td>b80344d063b5ccb3212f76538f3d9e43d87dca9e</td>\n",
       "      <td>SOAPDEY12A81C210A9</td>\n",
       "      <td>1</td>\n",
       "    </tr>\n",
       "    <tr>\n",
       "      <th>1</th>\n",
       "      <td>b80344d063b5ccb3212f76538f3d9e43d87dca9e</td>\n",
       "      <td>SOBBMDR12A8C13253B</td>\n",
       "      <td>2</td>\n",
       "    </tr>\n",
       "    <tr>\n",
       "      <th>2</th>\n",
       "      <td>b80344d063b5ccb3212f76538f3d9e43d87dca9e</td>\n",
       "      <td>SOBFNSP12AF72A0E22</td>\n",
       "      <td>1</td>\n",
       "    </tr>\n",
       "    <tr>\n",
       "      <th>3</th>\n",
       "      <td>b80344d063b5ccb3212f76538f3d9e43d87dca9e</td>\n",
       "      <td>SOBFOVM12A58A7D494</td>\n",
       "      <td>1</td>\n",
       "    </tr>\n",
       "    <tr>\n",
       "      <th>4</th>\n",
       "      <td>b80344d063b5ccb3212f76538f3d9e43d87dca9e</td>\n",
       "      <td>SOBNZDC12A6D4FC103</td>\n",
       "      <td>1</td>\n",
       "    </tr>\n",
       "  </tbody>\n",
       "</table>\n",
       "</div>"
      ],
      "text/plain": [
       "                                    User ID             Song ID  Listen Counts\n",
       "0  b80344d063b5ccb3212f76538f3d9e43d87dca9e  SOAPDEY12A81C210A9              1\n",
       "1  b80344d063b5ccb3212f76538f3d9e43d87dca9e  SOBBMDR12A8C13253B              2\n",
       "2  b80344d063b5ccb3212f76538f3d9e43d87dca9e  SOBFNSP12AF72A0E22              1\n",
       "3  b80344d063b5ccb3212f76538f3d9e43d87dca9e  SOBFOVM12A58A7D494              1\n",
       "4  b80344d063b5ccb3212f76538f3d9e43d87dca9e  SOBNZDC12A6D4FC103              1"
      ]
     },
     "execution_count": 13,
     "metadata": {},
     "output_type": "execute_result"
    }
   ],
   "source": [
    "song_plays.head()"
   ]
  },
  {
   "cell_type": "code",
   "execution_count": 14,
   "metadata": {},
   "outputs": [
    {
     "data": {
      "text/html": [
       "<div>\n",
       "<style scoped>\n",
       "    .dataframe tbody tr th:only-of-type {\n",
       "        vertical-align: middle;\n",
       "    }\n",
       "\n",
       "    .dataframe tbody tr th {\n",
       "        vertical-align: top;\n",
       "    }\n",
       "\n",
       "    .dataframe thead th {\n",
       "        text-align: right;\n",
       "    }\n",
       "</style>\n",
       "<table border=\"1\" class=\"dataframe\">\n",
       "  <thead>\n",
       "    <tr style=\"text-align: right;\">\n",
       "      <th></th>\n",
       "      <th>Track ID</th>\n",
       "      <th>Song ID</th>\n",
       "      <th>Artist</th>\n",
       "      <th>Song Title</th>\n",
       "    </tr>\n",
       "  </thead>\n",
       "  <tbody>\n",
       "    <tr>\n",
       "      <th>0</th>\n",
       "      <td>TRMMMKD128F425225D</td>\n",
       "      <td>SOVFVAK12A8C1350D9</td>\n",
       "      <td>Karkkiautomaatti</td>\n",
       "      <td>Tanssi vaan</td>\n",
       "    </tr>\n",
       "    <tr>\n",
       "      <th>1</th>\n",
       "      <td>TRMMMRX128F93187D9</td>\n",
       "      <td>SOGTUKN12AB017F4F1</td>\n",
       "      <td>Hudson Mohawke</td>\n",
       "      <td>No One Could Ever</td>\n",
       "    </tr>\n",
       "    <tr>\n",
       "      <th>2</th>\n",
       "      <td>TRMMMCH128F425532C</td>\n",
       "      <td>SOBNYVR12A8C13558C</td>\n",
       "      <td>Yerba Brava</td>\n",
       "      <td>Si Vos Querés</td>\n",
       "    </tr>\n",
       "    <tr>\n",
       "      <th>3</th>\n",
       "      <td>TRMMMWA128F426B589</td>\n",
       "      <td>SOHSBXH12A8C13B0DF</td>\n",
       "      <td>Der Mystic</td>\n",
       "      <td>Tangle Of Aspens</td>\n",
       "    </tr>\n",
       "    <tr>\n",
       "      <th>4</th>\n",
       "      <td>TRMMMXN128F42936A5</td>\n",
       "      <td>SOZVAPQ12A8C13B63C</td>\n",
       "      <td>David Montgomery</td>\n",
       "      <td>Symphony No. 1 G minor \"Sinfonie Serieuse\"/All...</td>\n",
       "    </tr>\n",
       "  </tbody>\n",
       "</table>\n",
       "</div>"
      ],
      "text/plain": [
       "             Track ID             Song ID            Artist  \\\n",
       "0  TRMMMKD128F425225D  SOVFVAK12A8C1350D9  Karkkiautomaatti   \n",
       "1  TRMMMRX128F93187D9  SOGTUKN12AB017F4F1    Hudson Mohawke   \n",
       "2  TRMMMCH128F425532C  SOBNYVR12A8C13558C       Yerba Brava   \n",
       "3  TRMMMWA128F426B589  SOHSBXH12A8C13B0DF        Der Mystic   \n",
       "4  TRMMMXN128F42936A5  SOZVAPQ12A8C13B63C  David Montgomery   \n",
       "\n",
       "                                          Song Title  \n",
       "0                                        Tanssi vaan  \n",
       "1                                  No One Could Ever  \n",
       "2                                      Si Vos Querés  \n",
       "3                                   Tangle Of Aspens  \n",
       "4  Symphony No. 1 G minor \"Sinfonie Serieuse\"/All...  "
      ]
     },
     "execution_count": 14,
     "metadata": {},
     "output_type": "execute_result"
    }
   ],
   "source": [
    "unique_tracks.head()"
   ]
  },
  {
   "cell_type": "code",
   "execution_count": 15,
   "metadata": {},
   "outputs": [
    {
     "name": "stdout",
     "output_type": "stream",
     "text": [
      "48373585\n",
      "999999\n"
     ]
    }
   ],
   "source": [
    "# get dataset info\n",
    "print(song_plays.shape[0])\n",
    "print(unique_tracks.shape[0])"
   ]
  },
  {
   "cell_type": "code",
   "execution_count": 16,
   "metadata": {},
   "outputs": [],
   "source": [
    "# remove dups\n",
    "unique_tracks.drop_duplicates(subset=['Song ID'], inplace=True)"
   ]
  },
  {
   "cell_type": "code",
   "execution_count": 17,
   "metadata": {},
   "outputs": [],
   "source": [
    "# merge datasets\n",
    "song_data = pd.merge(song_plays, unique_tracks, on = \"Song ID\", how = \"left\")"
   ]
  },
  {
   "cell_type": "code",
   "execution_count": 18,
   "metadata": {},
   "outputs": [],
   "source": [
    "song_data.drop(columns=['Track ID'], inplace = True)"
   ]
  },
  {
   "cell_type": "code",
   "execution_count": 19,
   "metadata": {},
   "outputs": [
    {
     "data": {
      "text/html": [
       "<div>\n",
       "<style scoped>\n",
       "    .dataframe tbody tr th:only-of-type {\n",
       "        vertical-align: middle;\n",
       "    }\n",
       "\n",
       "    .dataframe tbody tr th {\n",
       "        vertical-align: top;\n",
       "    }\n",
       "\n",
       "    .dataframe thead th {\n",
       "        text-align: right;\n",
       "    }\n",
       "</style>\n",
       "<table border=\"1\" class=\"dataframe\">\n",
       "  <thead>\n",
       "    <tr style=\"text-align: right;\">\n",
       "      <th></th>\n",
       "      <th>User ID</th>\n",
       "      <th>Song ID</th>\n",
       "      <th>Listen Counts</th>\n",
       "      <th>Artist</th>\n",
       "      <th>Song Title</th>\n",
       "    </tr>\n",
       "  </thead>\n",
       "  <tbody>\n",
       "    <tr>\n",
       "      <th>0</th>\n",
       "      <td>b80344d063b5ccb3212f76538f3d9e43d87dca9e</td>\n",
       "      <td>SOAPDEY12A81C210A9</td>\n",
       "      <td>1</td>\n",
       "      <td>Billy Preston</td>\n",
       "      <td>Nothing from Nothing</td>\n",
       "    </tr>\n",
       "    <tr>\n",
       "      <th>1</th>\n",
       "      <td>b80344d063b5ccb3212f76538f3d9e43d87dca9e</td>\n",
       "      <td>SOBBMDR12A8C13253B</td>\n",
       "      <td>2</td>\n",
       "      <td>Paco De Lucia</td>\n",
       "      <td>Entre Dos Aguas</td>\n",
       "    </tr>\n",
       "    <tr>\n",
       "      <th>2</th>\n",
       "      <td>b80344d063b5ccb3212f76538f3d9e43d87dca9e</td>\n",
       "      <td>SOBFNSP12AF72A0E22</td>\n",
       "      <td>1</td>\n",
       "      <td>Josh Rouse</td>\n",
       "      <td>Under Cold Blue Stars</td>\n",
       "    </tr>\n",
       "    <tr>\n",
       "      <th>3</th>\n",
       "      <td>b80344d063b5ccb3212f76538f3d9e43d87dca9e</td>\n",
       "      <td>SOBFOVM12A58A7D494</td>\n",
       "      <td>1</td>\n",
       "      <td>The Dead 60s</td>\n",
       "      <td>Riot Radio (Soundtrack Version)</td>\n",
       "    </tr>\n",
       "    <tr>\n",
       "      <th>4</th>\n",
       "      <td>b80344d063b5ccb3212f76538f3d9e43d87dca9e</td>\n",
       "      <td>SOBNZDC12A6D4FC103</td>\n",
       "      <td>1</td>\n",
       "      <td>Amset</td>\n",
       "      <td>Sin límites (I)</td>\n",
       "    </tr>\n",
       "  </tbody>\n",
       "</table>\n",
       "</div>"
      ],
      "text/plain": [
       "                                    User ID             Song ID  \\\n",
       "0  b80344d063b5ccb3212f76538f3d9e43d87dca9e  SOAPDEY12A81C210A9   \n",
       "1  b80344d063b5ccb3212f76538f3d9e43d87dca9e  SOBBMDR12A8C13253B   \n",
       "2  b80344d063b5ccb3212f76538f3d9e43d87dca9e  SOBFNSP12AF72A0E22   \n",
       "3  b80344d063b5ccb3212f76538f3d9e43d87dca9e  SOBFOVM12A58A7D494   \n",
       "4  b80344d063b5ccb3212f76538f3d9e43d87dca9e  SOBNZDC12A6D4FC103   \n",
       "\n",
       "   Listen Counts         Artist                       Song Title  \n",
       "0              1  Billy Preston             Nothing from Nothing  \n",
       "1              2  Paco De Lucia                  Entre Dos Aguas  \n",
       "2              1     Josh Rouse            Under Cold Blue Stars  \n",
       "3              1   The Dead 60s  Riot Radio (Soundtrack Version)  \n",
       "4              1          Amset                  Sin límites (I)  "
      ]
     },
     "execution_count": 19,
     "metadata": {},
     "output_type": "execute_result"
    }
   ],
   "source": [
    "song_data.head()"
   ]
  },
  {
   "cell_type": "code",
   "execution_count": 20,
   "metadata": {},
   "outputs": [
    {
     "data": {
      "text/plain": [
       "48373585"
      ]
     },
     "execution_count": 20,
     "metadata": {},
     "output_type": "execute_result"
    }
   ],
   "source": [
    "# verify merge\n",
    "song_data.shape[0]"
   ]
  },
  {
   "cell_type": "code",
   "execution_count": 21,
   "metadata": {},
   "outputs": [
    {
     "data": {
      "text/plain": [
       "User ID           0\n",
       "Song ID           0\n",
       "Listen Counts     0\n",
       "Artist            3\n",
       "Song Title       68\n",
       "dtype: int64"
      ]
     },
     "execution_count": 21,
     "metadata": {},
     "output_type": "execute_result"
    }
   ],
   "source": [
    "# find NaN values\n",
    "song_data.isnull().sum(axis = 0)"
   ]
  },
  {
   "cell_type": "code",
   "execution_count": 22,
   "metadata": {},
   "outputs": [],
   "source": [
    "song_data.dropna(axis = 0, subset = ['Song Title'], inplace = True)"
   ]
  },
  {
   "cell_type": "code",
   "execution_count": 23,
   "metadata": {},
   "outputs": [
    {
     "data": {
      "text/plain": [
       "48373517"
      ]
     },
     "execution_count": 23,
     "metadata": {},
     "output_type": "execute_result"
    }
   ],
   "source": [
    "# verify drop\n",
    "song_data.shape[0]"
   ]
  },
  {
   "cell_type": "code",
   "execution_count": 24,
   "metadata": {},
   "outputs": [],
   "source": [
    "user_listens = song_data.groupby('User ID')['Song ID'].count()"
   ]
  },
  {
   "cell_type": "code",
   "execution_count": 25,
   "metadata": {},
   "outputs": [
    {
     "name": "stdout",
     "output_type": "stream",
     "text": [
      "Users listen to an average of 47.4567 songs each.\n",
      "The median for songs listened to by users is 27.0 songs\n"
     ]
    }
   ],
   "source": [
    "\n",
    "print(f\"Users listen to an average of {np.around(user_listens.mean(), decimals=4)} songs each.\")\n",
    "print(f\"The median for songs listened to by users is {np.median(user_listens)} songs\")"
   ]
  },
  {
   "cell_type": "code",
   "execution_count": 26,
   "metadata": {},
   "outputs": [],
   "source": [
    "song_users = song_data.groupby('Song ID')['User ID'].count()"
   ]
  },
  {
   "cell_type": "code",
   "execution_count": 27,
   "metadata": {},
   "outputs": [
    {
     "name": "stdout",
     "output_type": "stream",
     "text": [
      "Songs were listened to by an average of 125.7955 users each.\n",
      "The median amount of unique listeners for each song is 13.0 listeners.\n"
     ]
    }
   ],
   "source": [
    "print(f\"Songs were listened to by an average of {np.around(song_users.mean(), decimals=4)} users each.\")\n",
    "print(f\"The median amount of unique listeners for each song is {np.median(song_users)} listeners.\")"
   ]
  },
  {
   "cell_type": "code",
   "execution_count": 28,
   "metadata": {},
   "outputs": [
    {
     "name": "stdout",
     "output_type": "stream",
     "text": [
      "The maximum listeners for one song was 110479.\n",
      "The minimum listeners for one song was 1.\n"
     ]
    }
   ],
   "source": [
    "print(f\"The maximum listeners for one song was {np.max(song_users)}.\")\n",
    "print(f\"The minimum listeners for one song was {np.min(song_users)}.\")"
   ]
  },
  {
   "cell_type": "code",
   "execution_count": 29,
   "metadata": {},
   "outputs": [
    {
     "name": "stdout",
     "output_type": "stream",
     "text": [
      "There are 306720 unique songs in the dataset\n"
     ]
    }
   ],
   "source": [
    "\n",
    "#Unique songs\n",
    "unique_songs = song_data['Song Title'].unique().shape[0]\n",
    "print(f\"There are {unique_songs} unique songs in the dataset\")"
   ]
  },
  {
   "cell_type": "code",
   "execution_count": 30,
   "metadata": {},
   "outputs": [
    {
     "name": "stdout",
     "output_type": "stream",
     "text": [
      "There are 1019318 unique users in the dataset\n"
     ]
    }
   ],
   "source": [
    "#Unique users\n",
    "unique_users = song_data['User ID'].unique().shape[0]\n",
    "print(f\"There are {unique_users} unique users in the dataset\")"
   ]
  },
  {
   "cell_type": "code",
   "execution_count": 31,
   "metadata": {},
   "outputs": [
    {
     "name": "stdout",
     "output_type": "stream",
     "text": [
      "312645216960\n",
      "312596843443\n"
     ]
    }
   ],
   "source": [
    "values_matrix = unique_users * unique_songs\n",
    "zero_values_matrix = values_matrix - song_data.shape[0]\n",
    "print(values_matrix)\n",
    "print(zero_values_matrix)"
   ]
  },
  {
   "cell_type": "code",
   "execution_count": 32,
   "metadata": {},
   "outputs": [
    {
     "name": "stdout",
     "output_type": "stream",
     "text": [
      "The matrix of users * songs has 312596843443 cells that are zero\n"
     ]
    }
   ],
   "source": [
    "print(f\"The matrix of users * songs has {zero_values_matrix} cells that are zero\")\n"
   ]
  },
  {
   "cell_type": "code",
   "execution_count": 33,
   "metadata": {},
   "outputs": [],
   "source": [
    "# since data is so sparse, only those users who have listened to more than  songs.\n",
    "user_id_list = user_listens[user_listens > 175].index.to_list()\n",
    "song_id_list = song_users[song_users > 175].index.to_list()"
   ]
  },
  {
   "cell_type": "code",
   "execution_count": 34,
   "metadata": {},
   "outputs": [],
   "source": [
    "# Filtered the dataset to keep only those users with more than 175 listened\n",
    "song_data_ten_listens = song_data[song_data['User ID'].isin(user_id_list)].reset_index(drop=True)"
   ]
  },
  {
   "cell_type": "code",
   "execution_count": 35,
   "metadata": {},
   "outputs": [],
   "source": [
    "song_data_complete = song_data_ten_listens[song_data_ten_listens['Song ID'].isin(song_id_list)].reset_index(drop=True)"
   ]
  },
  {
   "cell_type": "code",
   "execution_count": 36,
   "metadata": {},
   "outputs": [],
   "source": [
    "songs_features = song_data_complete.pivot_table(index='Song ID', columns='User ID', values='Listen Counts').fillna(0)"
   ]
  },
  {
   "cell_type": "code",
   "execution_count": 37,
   "metadata": {},
   "outputs": [
    {
     "data": {
      "text/html": [
       "<div>\n",
       "<style scoped>\n",
       "    .dataframe tbody tr th:only-of-type {\n",
       "        vertical-align: middle;\n",
       "    }\n",
       "\n",
       "    .dataframe tbody tr th {\n",
       "        vertical-align: top;\n",
       "    }\n",
       "\n",
       "    .dataframe thead th {\n",
       "        text-align: right;\n",
       "    }\n",
       "</style>\n",
       "<table border=\"1\" class=\"dataframe\">\n",
       "  <thead>\n",
       "    <tr style=\"text-align: right;\">\n",
       "      <th>User ID</th>\n",
       "      <th>00028f3cff4872bff3e9985cfa32e01a8d54e374</th>\n",
       "      <th>0002e94348b2543c6e6ccf408b0160d14064e46f</th>\n",
       "      <th>0003a64f7a69e5b87a80b09c3772227185c235c7</th>\n",
       "      <th>00043d7bc800ceff4a90459e189eba5d442a1d3d</th>\n",
       "      <th>00063d8046ee046b43709a819211ccfc4b21a6d0</th>\n",
       "      <th>0009dc26c4ae94eb9409a726c26d3fe749f6faa1</th>\n",
       "      <th>000d80cd9b58a8f77b33aa613dcfc5cbf1daf5e8</th>\n",
       "      <th>000dd746b05684caffc8875784cb27c4503632ca</th>\n",
       "      <th>000ebc858861aca26bac9b49f650ed424cf882fc</th>\n",
       "      <th>00106661302d2251d8bb661c91850caa65096457</th>\n",
       "      <th>...</th>\n",
       "      <th>fff4493d530cd62e88bed73849b35687a08b1ee7</th>\n",
       "      <th>fff6c30c773e6ffafcac213c9afd9666afaf6d63</th>\n",
       "      <th>fff759a45a3a68de552740e8285a97d5f65d4e58</th>\n",
       "      <th>fff787a6f818de536687c0402d42c62841ab5d5c</th>\n",
       "      <th>fff83c8596c1519f90fd5c5ed540f2ad93ea7bc5</th>\n",
       "      <th>fff90dcb01432ff9b9b837ed9af3c533d533fa22</th>\n",
       "      <th>fffb0b218640d86e5cb99d41cd3ecad977142da5</th>\n",
       "      <th>fffbab4b8416fc41d05fcbdcf0e6735c4f37cb39</th>\n",
       "      <th>fffc0df75a48d823ad5abfaf2a1ee61eb1e3302c</th>\n",
       "      <th>ffffcfeb0c1b66bd212ea58d918c7dc62fb9c3a5</th>\n",
       "    </tr>\n",
       "    <tr>\n",
       "      <th>Song ID</th>\n",
       "      <th></th>\n",
       "      <th></th>\n",
       "      <th></th>\n",
       "      <th></th>\n",
       "      <th></th>\n",
       "      <th></th>\n",
       "      <th></th>\n",
       "      <th></th>\n",
       "      <th></th>\n",
       "      <th></th>\n",
       "      <th></th>\n",
       "      <th></th>\n",
       "      <th></th>\n",
       "      <th></th>\n",
       "      <th></th>\n",
       "      <th></th>\n",
       "      <th></th>\n",
       "      <th></th>\n",
       "      <th></th>\n",
       "      <th></th>\n",
       "      <th></th>\n",
       "    </tr>\n",
       "  </thead>\n",
       "  <tbody>\n",
       "    <tr>\n",
       "      <th>SOAAAGQ12A8C1420C8</th>\n",
       "      <td>0.0</td>\n",
       "      <td>0.0</td>\n",
       "      <td>0.0</td>\n",
       "      <td>0.0</td>\n",
       "      <td>0.0</td>\n",
       "      <td>0.0</td>\n",
       "      <td>0.0</td>\n",
       "      <td>0.0</td>\n",
       "      <td>0.0</td>\n",
       "      <td>0.0</td>\n",
       "      <td>...</td>\n",
       "      <td>0.0</td>\n",
       "      <td>0.0</td>\n",
       "      <td>0.0</td>\n",
       "      <td>0.0</td>\n",
       "      <td>0.0</td>\n",
       "      <td>0.0</td>\n",
       "      <td>0.0</td>\n",
       "      <td>0.0</td>\n",
       "      <td>0.0</td>\n",
       "      <td>0.0</td>\n",
       "    </tr>\n",
       "    <tr>\n",
       "      <th>SOAABSB12A8C143E55</th>\n",
       "      <td>0.0</td>\n",
       "      <td>0.0</td>\n",
       "      <td>0.0</td>\n",
       "      <td>0.0</td>\n",
       "      <td>0.0</td>\n",
       "      <td>0.0</td>\n",
       "      <td>0.0</td>\n",
       "      <td>0.0</td>\n",
       "      <td>0.0</td>\n",
       "      <td>0.0</td>\n",
       "      <td>...</td>\n",
       "      <td>0.0</td>\n",
       "      <td>0.0</td>\n",
       "      <td>0.0</td>\n",
       "      <td>0.0</td>\n",
       "      <td>0.0</td>\n",
       "      <td>0.0</td>\n",
       "      <td>0.0</td>\n",
       "      <td>0.0</td>\n",
       "      <td>0.0</td>\n",
       "      <td>0.0</td>\n",
       "    </tr>\n",
       "    <tr>\n",
       "      <th>SOAACGG12A58A7A034</th>\n",
       "      <td>0.0</td>\n",
       "      <td>0.0</td>\n",
       "      <td>0.0</td>\n",
       "      <td>0.0</td>\n",
       "      <td>0.0</td>\n",
       "      <td>0.0</td>\n",
       "      <td>0.0</td>\n",
       "      <td>0.0</td>\n",
       "      <td>0.0</td>\n",
       "      <td>0.0</td>\n",
       "      <td>...</td>\n",
       "      <td>0.0</td>\n",
       "      <td>0.0</td>\n",
       "      <td>0.0</td>\n",
       "      <td>0.0</td>\n",
       "      <td>0.0</td>\n",
       "      <td>0.0</td>\n",
       "      <td>0.0</td>\n",
       "      <td>0.0</td>\n",
       "      <td>0.0</td>\n",
       "      <td>0.0</td>\n",
       "    </tr>\n",
       "    <tr>\n",
       "      <th>SOAACPJ12A81C21360</th>\n",
       "      <td>0.0</td>\n",
       "      <td>0.0</td>\n",
       "      <td>0.0</td>\n",
       "      <td>0.0</td>\n",
       "      <td>0.0</td>\n",
       "      <td>0.0</td>\n",
       "      <td>0.0</td>\n",
       "      <td>0.0</td>\n",
       "      <td>0.0</td>\n",
       "      <td>0.0</td>\n",
       "      <td>...</td>\n",
       "      <td>0.0</td>\n",
       "      <td>0.0</td>\n",
       "      <td>0.0</td>\n",
       "      <td>0.0</td>\n",
       "      <td>0.0</td>\n",
       "      <td>0.0</td>\n",
       "      <td>0.0</td>\n",
       "      <td>0.0</td>\n",
       "      <td>0.0</td>\n",
       "      <td>0.0</td>\n",
       "    </tr>\n",
       "    <tr>\n",
       "      <th>SOAACSG12AB018DC80</th>\n",
       "      <td>0.0</td>\n",
       "      <td>0.0</td>\n",
       "      <td>0.0</td>\n",
       "      <td>0.0</td>\n",
       "      <td>0.0</td>\n",
       "      <td>0.0</td>\n",
       "      <td>0.0</td>\n",
       "      <td>0.0</td>\n",
       "      <td>0.0</td>\n",
       "      <td>0.0</td>\n",
       "      <td>...</td>\n",
       "      <td>0.0</td>\n",
       "      <td>0.0</td>\n",
       "      <td>0.0</td>\n",
       "      <td>0.0</td>\n",
       "      <td>0.0</td>\n",
       "      <td>0.0</td>\n",
       "      <td>0.0</td>\n",
       "      <td>0.0</td>\n",
       "      <td>0.0</td>\n",
       "      <td>0.0</td>\n",
       "    </tr>\n",
       "  </tbody>\n",
       "</table>\n",
       "<p>5 rows × 35950 columns</p>\n",
       "</div>"
      ],
      "text/plain": [
       "User ID             00028f3cff4872bff3e9985cfa32e01a8d54e374  \\\n",
       "Song ID                                                        \n",
       "SOAAAGQ12A8C1420C8                                       0.0   \n",
       "SOAABSB12A8C143E55                                       0.0   \n",
       "SOAACGG12A58A7A034                                       0.0   \n",
       "SOAACPJ12A81C21360                                       0.0   \n",
       "SOAACSG12AB018DC80                                       0.0   \n",
       "\n",
       "User ID             0002e94348b2543c6e6ccf408b0160d14064e46f  \\\n",
       "Song ID                                                        \n",
       "SOAAAGQ12A8C1420C8                                       0.0   \n",
       "SOAABSB12A8C143E55                                       0.0   \n",
       "SOAACGG12A58A7A034                                       0.0   \n",
       "SOAACPJ12A81C21360                                       0.0   \n",
       "SOAACSG12AB018DC80                                       0.0   \n",
       "\n",
       "User ID             0003a64f7a69e5b87a80b09c3772227185c235c7  \\\n",
       "Song ID                                                        \n",
       "SOAAAGQ12A8C1420C8                                       0.0   \n",
       "SOAABSB12A8C143E55                                       0.0   \n",
       "SOAACGG12A58A7A034                                       0.0   \n",
       "SOAACPJ12A81C21360                                       0.0   \n",
       "SOAACSG12AB018DC80                                       0.0   \n",
       "\n",
       "User ID             00043d7bc800ceff4a90459e189eba5d442a1d3d  \\\n",
       "Song ID                                                        \n",
       "SOAAAGQ12A8C1420C8                                       0.0   \n",
       "SOAABSB12A8C143E55                                       0.0   \n",
       "SOAACGG12A58A7A034                                       0.0   \n",
       "SOAACPJ12A81C21360                                       0.0   \n",
       "SOAACSG12AB018DC80                                       0.0   \n",
       "\n",
       "User ID             00063d8046ee046b43709a819211ccfc4b21a6d0  \\\n",
       "Song ID                                                        \n",
       "SOAAAGQ12A8C1420C8                                       0.0   \n",
       "SOAABSB12A8C143E55                                       0.0   \n",
       "SOAACGG12A58A7A034                                       0.0   \n",
       "SOAACPJ12A81C21360                                       0.0   \n",
       "SOAACSG12AB018DC80                                       0.0   \n",
       "\n",
       "User ID             0009dc26c4ae94eb9409a726c26d3fe749f6faa1  \\\n",
       "Song ID                                                        \n",
       "SOAAAGQ12A8C1420C8                                       0.0   \n",
       "SOAABSB12A8C143E55                                       0.0   \n",
       "SOAACGG12A58A7A034                                       0.0   \n",
       "SOAACPJ12A81C21360                                       0.0   \n",
       "SOAACSG12AB018DC80                                       0.0   \n",
       "\n",
       "User ID             000d80cd9b58a8f77b33aa613dcfc5cbf1daf5e8  \\\n",
       "Song ID                                                        \n",
       "SOAAAGQ12A8C1420C8                                       0.0   \n",
       "SOAABSB12A8C143E55                                       0.0   \n",
       "SOAACGG12A58A7A034                                       0.0   \n",
       "SOAACPJ12A81C21360                                       0.0   \n",
       "SOAACSG12AB018DC80                                       0.0   \n",
       "\n",
       "User ID             000dd746b05684caffc8875784cb27c4503632ca  \\\n",
       "Song ID                                                        \n",
       "SOAAAGQ12A8C1420C8                                       0.0   \n",
       "SOAABSB12A8C143E55                                       0.0   \n",
       "SOAACGG12A58A7A034                                       0.0   \n",
       "SOAACPJ12A81C21360                                       0.0   \n",
       "SOAACSG12AB018DC80                                       0.0   \n",
       "\n",
       "User ID             000ebc858861aca26bac9b49f650ed424cf882fc  \\\n",
       "Song ID                                                        \n",
       "SOAAAGQ12A8C1420C8                                       0.0   \n",
       "SOAABSB12A8C143E55                                       0.0   \n",
       "SOAACGG12A58A7A034                                       0.0   \n",
       "SOAACPJ12A81C21360                                       0.0   \n",
       "SOAACSG12AB018DC80                                       0.0   \n",
       "\n",
       "User ID             00106661302d2251d8bb661c91850caa65096457  ...  \\\n",
       "Song ID                                                       ...   \n",
       "SOAAAGQ12A8C1420C8                                       0.0  ...   \n",
       "SOAABSB12A8C143E55                                       0.0  ...   \n",
       "SOAACGG12A58A7A034                                       0.0  ...   \n",
       "SOAACPJ12A81C21360                                       0.0  ...   \n",
       "SOAACSG12AB018DC80                                       0.0  ...   \n",
       "\n",
       "User ID             fff4493d530cd62e88bed73849b35687a08b1ee7  \\\n",
       "Song ID                                                        \n",
       "SOAAAGQ12A8C1420C8                                       0.0   \n",
       "SOAABSB12A8C143E55                                       0.0   \n",
       "SOAACGG12A58A7A034                                       0.0   \n",
       "SOAACPJ12A81C21360                                       0.0   \n",
       "SOAACSG12AB018DC80                                       0.0   \n",
       "\n",
       "User ID             fff6c30c773e6ffafcac213c9afd9666afaf6d63  \\\n",
       "Song ID                                                        \n",
       "SOAAAGQ12A8C1420C8                                       0.0   \n",
       "SOAABSB12A8C143E55                                       0.0   \n",
       "SOAACGG12A58A7A034                                       0.0   \n",
       "SOAACPJ12A81C21360                                       0.0   \n",
       "SOAACSG12AB018DC80                                       0.0   \n",
       "\n",
       "User ID             fff759a45a3a68de552740e8285a97d5f65d4e58  \\\n",
       "Song ID                                                        \n",
       "SOAAAGQ12A8C1420C8                                       0.0   \n",
       "SOAABSB12A8C143E55                                       0.0   \n",
       "SOAACGG12A58A7A034                                       0.0   \n",
       "SOAACPJ12A81C21360                                       0.0   \n",
       "SOAACSG12AB018DC80                                       0.0   \n",
       "\n",
       "User ID             fff787a6f818de536687c0402d42c62841ab5d5c  \\\n",
       "Song ID                                                        \n",
       "SOAAAGQ12A8C1420C8                                       0.0   \n",
       "SOAABSB12A8C143E55                                       0.0   \n",
       "SOAACGG12A58A7A034                                       0.0   \n",
       "SOAACPJ12A81C21360                                       0.0   \n",
       "SOAACSG12AB018DC80                                       0.0   \n",
       "\n",
       "User ID             fff83c8596c1519f90fd5c5ed540f2ad93ea7bc5  \\\n",
       "Song ID                                                        \n",
       "SOAAAGQ12A8C1420C8                                       0.0   \n",
       "SOAABSB12A8C143E55                                       0.0   \n",
       "SOAACGG12A58A7A034                                       0.0   \n",
       "SOAACPJ12A81C21360                                       0.0   \n",
       "SOAACSG12AB018DC80                                       0.0   \n",
       "\n",
       "User ID             fff90dcb01432ff9b9b837ed9af3c533d533fa22  \\\n",
       "Song ID                                                        \n",
       "SOAAAGQ12A8C1420C8                                       0.0   \n",
       "SOAABSB12A8C143E55                                       0.0   \n",
       "SOAACGG12A58A7A034                                       0.0   \n",
       "SOAACPJ12A81C21360                                       0.0   \n",
       "SOAACSG12AB018DC80                                       0.0   \n",
       "\n",
       "User ID             fffb0b218640d86e5cb99d41cd3ecad977142da5  \\\n",
       "Song ID                                                        \n",
       "SOAAAGQ12A8C1420C8                                       0.0   \n",
       "SOAABSB12A8C143E55                                       0.0   \n",
       "SOAACGG12A58A7A034                                       0.0   \n",
       "SOAACPJ12A81C21360                                       0.0   \n",
       "SOAACSG12AB018DC80                                       0.0   \n",
       "\n",
       "User ID             fffbab4b8416fc41d05fcbdcf0e6735c4f37cb39  \\\n",
       "Song ID                                                        \n",
       "SOAAAGQ12A8C1420C8                                       0.0   \n",
       "SOAABSB12A8C143E55                                       0.0   \n",
       "SOAACGG12A58A7A034                                       0.0   \n",
       "SOAACPJ12A81C21360                                       0.0   \n",
       "SOAACSG12AB018DC80                                       0.0   \n",
       "\n",
       "User ID             fffc0df75a48d823ad5abfaf2a1ee61eb1e3302c  \\\n",
       "Song ID                                                        \n",
       "SOAAAGQ12A8C1420C8                                       0.0   \n",
       "SOAABSB12A8C143E55                                       0.0   \n",
       "SOAACGG12A58A7A034                                       0.0   \n",
       "SOAACPJ12A81C21360                                       0.0   \n",
       "SOAACSG12AB018DC80                                       0.0   \n",
       "\n",
       "User ID             ffffcfeb0c1b66bd212ea58d918c7dc62fb9c3a5  \n",
       "Song ID                                                       \n",
       "SOAAAGQ12A8C1420C8                                       0.0  \n",
       "SOAABSB12A8C143E55                                       0.0  \n",
       "SOAACGG12A58A7A034                                       0.0  \n",
       "SOAACPJ12A81C21360                                       0.0  \n",
       "SOAACSG12AB018DC80                                       0.0  \n",
       "\n",
       "[5 rows x 35950 columns]"
      ]
     },
     "execution_count": 37,
     "metadata": {},
     "output_type": "execute_result"
    }
   ],
   "source": [
    "songs_features.head()"
   ]
  },
  {
   "cell_type": "code",
   "execution_count": 46,
   "metadata": {},
   "outputs": [],
   "source": [
    "# obtain a sparse matrix\n",
    "matrix_songs_features = csr_matrix(songs_features.values)"
   ]
  },
  {
   "cell_type": "code",
   "execution_count": 59,
   "metadata": {},
   "outputs": [],
   "source": [
    "song_data = song_data.rename(columns={'Song Title': 'title'})"
   ]
  },
  {
   "cell_type": "code",
   "execution_count": 61,
   "metadata": {},
   "outputs": [],
   "source": [
    "df_unique_songs = song_data.drop_duplicates(subset=['Song ID']).reset_index(drop=True)[['Song ID', 'title']]\n"
   ]
  },
  {
   "cell_type": "code",
   "execution_count": 63,
   "metadata": {},
   "outputs": [],
   "source": [
    "# find song titles from song ids\n",
    "decode_id_song = {\n",
    "    song: i for i, song in \n",
    "    enumerate(list(df_unique_songs.set_index('Song ID').loc[songs_features.index].title))\n",
    "}"
   ]
  },
  {
   "cell_type": "code",
   "execution_count": 67,
   "metadata": {},
   "outputs": [],
   "source": [
    "model = Recommender(metric='cosine', algorithm='brute', k=10, data=matrix_songs_features, decode_id_song=decode_id_song)"
   ]
  },
  {
   "cell_type": "code",
   "execution_count": 88,
   "metadata": {},
   "outputs": [],
   "source": [
    "song = 'whole lotta love'"
   ]
  },
  {
   "cell_type": "code",
   "execution_count": 89,
   "metadata": {},
   "outputs": [
    {
     "name": "stdout",
     "output_type": "stream",
     "text": [
      "Starting the recommendation process for whole lotta love ...\n",
      "... Done\n"
     ]
    }
   ],
   "source": [
    "new_recommendations = model.make_recommendation(new_song=song, n_recommendations=10)"
   ]
  },
  {
   "cell_type": "code",
   "execution_count": 91,
   "metadata": {},
   "outputs": [
    {
     "name": "stdout",
     "output_type": "stream",
     "text": [
      "The recommendations for Sweet Love Child are:\n",
      "Faraway Land\n",
      "No Ordinary Love feat. Nirva Dorsaint-Ready\n",
      "She'd Rather Be With Me\n",
      "Superstitious\n",
      "Da Cor Do Pecado\n",
      "Do You Believe In Magic?\n",
      "Simple As That\n",
      "Borivóknak való\n",
      "Naturally\n",
      "Sweet Love Child\n"
     ]
    }
   ],
   "source": [
    "print(f\"The recommendations for {song} are:\")\n",
    "for song in new_recommendations:\n",
    "    print(f\"{song}\")"
   ]
  }
 ],
 "metadata": {
  "kernelspec": {
   "display_name": "venv-ml-project",
   "language": "python",
   "name": "python3"
  },
  "language_info": {
   "codemirror_mode": {
    "name": "ipython",
    "version": 3
   },
   "file_extension": ".py",
   "mimetype": "text/x-python",
   "name": "python",
   "nbconvert_exporter": "python",
   "pygments_lexer": "ipython3",
   "version": "3.9.14"
  },
  "orig_nbformat": 4,
  "vscode": {
   "interpreter": {
    "hash": "76fc0a254809586c7f757b5be5cfbc9451cf7e8b50f9ca0b2427378981d75e39"
   }
  }
 },
 "nbformat": 4,
 "nbformat_minor": 2
}
